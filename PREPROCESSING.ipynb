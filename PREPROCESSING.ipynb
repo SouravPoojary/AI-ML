{
 "cells": [
  {
   "cell_type": "code",
   "execution_count": 1,
   "id": "df1b69d6",
   "metadata": {},
   "outputs": [],
   "source": [
    "import pandas as p\n",
    "import contractions as c\n",
    "from gensim.parsing.preprocessing import remove_stopwords\n",
    "from gensim.parsing.porter import PorterStemmer\n",
    "import nltk\n",
    "from nltk.corpus import wordnet\n",
    "import string as s\n",
    "from nltk.stem import WordNetLemmatizer \n",
    "data=p.read_csv(\"amazon.csv\")"
   ]
  },
  {
   "cell_type": "code",
   "execution_count": 2,
   "id": "7e39f7cd",
   "metadata": {},
   "outputs": [
    {
     "data": {
      "text/html": [
       "<div>\n",
       "<style scoped>\n",
       "    .dataframe tbody tr th:only-of-type {\n",
       "        vertical-align: middle;\n",
       "    }\n",
       "\n",
       "    .dataframe tbody tr th {\n",
       "        vertical-align: top;\n",
       "    }\n",
       "\n",
       "    .dataframe thead th {\n",
       "        text-align: right;\n",
       "    }\n",
       "</style>\n",
       "<table border=\"1\" class=\"dataframe\">\n",
       "  <thead>\n",
       "    <tr style=\"text-align: right;\">\n",
       "      <th></th>\n",
       "      <th>reviewText</th>\n",
       "      <th>Positive</th>\n",
       "    </tr>\n",
       "  </thead>\n",
       "  <tbody>\n",
       "    <tr>\n",
       "      <th>0</th>\n",
       "      <td>This is a one of the best apps acording to a b...</td>\n",
       "      <td>1</td>\n",
       "    </tr>\n",
       "    <tr>\n",
       "      <th>1</th>\n",
       "      <td>This is a pretty good version of the game for ...</td>\n",
       "      <td>1</td>\n",
       "    </tr>\n",
       "    <tr>\n",
       "      <th>2</th>\n",
       "      <td>this is a really cool game. there are a bunch ...</td>\n",
       "      <td>1</td>\n",
       "    </tr>\n",
       "    <tr>\n",
       "      <th>3</th>\n",
       "      <td>This is a silly game and can be frustrating, b...</td>\n",
       "      <td>1</td>\n",
       "    </tr>\n",
       "    <tr>\n",
       "      <th>4</th>\n",
       "      <td>This is a terrific game on any pad. Hrs of fun...</td>\n",
       "      <td>1</td>\n",
       "    </tr>\n",
       "    <tr>\n",
       "      <th>...</th>\n",
       "      <td>...</td>\n",
       "      <td>...</td>\n",
       "    </tr>\n",
       "    <tr>\n",
       "      <th>19995</th>\n",
       "      <td>this app is fricken stupid.it froze on the kin...</td>\n",
       "      <td>0</td>\n",
       "    </tr>\n",
       "    <tr>\n",
       "      <th>19996</th>\n",
       "      <td>Please add me!!!!! I need neighbors! Ginger101...</td>\n",
       "      <td>1</td>\n",
       "    </tr>\n",
       "    <tr>\n",
       "      <th>19997</th>\n",
       "      <td>love it!  this game. is awesome. wish it had m...</td>\n",
       "      <td>1</td>\n",
       "    </tr>\n",
       "    <tr>\n",
       "      <th>19998</th>\n",
       "      <td>I love love love this app on my side of fashio...</td>\n",
       "      <td>1</td>\n",
       "    </tr>\n",
       "    <tr>\n",
       "      <th>19999</th>\n",
       "      <td>This game is a rip off. Here is a list of thin...</td>\n",
       "      <td>0</td>\n",
       "    </tr>\n",
       "  </tbody>\n",
       "</table>\n",
       "<p>20000 rows × 2 columns</p>\n",
       "</div>"
      ],
      "text/plain": [
       "                                              reviewText  Positive\n",
       "0      This is a one of the best apps acording to a b...         1\n",
       "1      This is a pretty good version of the game for ...         1\n",
       "2      this is a really cool game. there are a bunch ...         1\n",
       "3      This is a silly game and can be frustrating, b...         1\n",
       "4      This is a terrific game on any pad. Hrs of fun...         1\n",
       "...                                                  ...       ...\n",
       "19995  this app is fricken stupid.it froze on the kin...         0\n",
       "19996  Please add me!!!!! I need neighbors! Ginger101...         1\n",
       "19997  love it!  this game. is awesome. wish it had m...         1\n",
       "19998  I love love love this app on my side of fashio...         1\n",
       "19999  This game is a rip off. Here is a list of thin...         0\n",
       "\n",
       "[20000 rows x 2 columns]"
      ]
     },
     "execution_count": 2,
     "metadata": {},
     "output_type": "execute_result"
    }
   ],
   "source": [
    "data"
   ]
  },
  {
   "cell_type": "code",
   "execution_count": 3,
   "id": "ecd26380",
   "metadata": {},
   "outputs": [
    {
     "data": {
      "text/plain": [
       "0        This is a one of the best apps acording to a b...\n",
       "1        This is a pretty good version of the game for ...\n",
       "2        this is a really cool game. there are a bunch ...\n",
       "3        This is a silly game and can be frustrating, b...\n",
       "4        This is a terrific game on any pad. Hrs of fun...\n",
       "                               ...                        \n",
       "19995    this app is fricken stupid.it froze on the kin...\n",
       "19996    Please add me!!!!! I need neighbors! Ginger101...\n",
       "19997    love it!  this game. is awesome. wish it had m...\n",
       "19998    I love love love this app on my side of fashio...\n",
       "19999    This game is a rip off. Here is a list of thin...\n",
       "Name: reviewText, Length: 20000, dtype: object"
      ]
     },
     "execution_count": 3,
     "metadata": {},
     "output_type": "execute_result"
    }
   ],
   "source": [
    "d=data[\"reviewText\"]\n",
    "d"
   ]
  },
  {
   "cell_type": "code",
   "execution_count": 16,
   "id": "af04cdbb",
   "metadata": {},
   "outputs": [],
   "source": [
    "ob=PorterStemmer()\n",
    "wl=WordNetLemmatizer()"
   ]
  },
  {
   "cell_type": "code",
   "execution_count": 24,
   "id": "ff943074",
   "metadata": {},
   "outputs": [],
   "source": [
    "def get_wordnet_pos(word):\n",
    "    \n",
    "    tag = nltk.pos_tag([word])[0][1][0].upper()\n",
    "    tag_dict = {\"J\": wordnet.ADJ,\n",
    "                \"N\": wordnet.NOUN,\n",
    "                \"V\": wordnet.VERB,\n",
    "                \"R\": wordnet.ADV}\n",
    "\n",
    "    return tag_dict.get(tag, wordnet.NOUN) "
   ]
  },
  {
   "cell_type": "code",
   "execution_count": 28,
   "id": "09943b90",
   "metadata": {},
   "outputs": [
    {
     "data": {
      "text/plain": [
       "[('very', 'RB')]"
      ]
     },
     "execution_count": 28,
     "metadata": {},
     "output_type": "execute_result"
    }
   ],
   "source": [
    "nltk.pos_tag([\"very\"])"
   ]
  },
  {
   "cell_type": "code",
   "execution_count": 25,
   "id": "fcfaf5da",
   "metadata": {},
   "outputs": [
    {
     "data": {
      "text/plain": [
       "'r'"
      ]
     },
     "execution_count": 25,
     "metadata": {},
     "output_type": "execute_result"
    }
   ],
   "source": [
    "get_wordnet_pos(\"very\")"
   ]
  },
  {
   "cell_type": "code",
   "execution_count": 33,
   "id": "30349f3d",
   "metadata": {},
   "outputs": [
    {
     "name": "stderr",
     "output_type": "stream",
     "text": [
      "C:\\Users\\User\\AppData\\Local\\Temp/ipykernel_6704/2319952594.py:2: FutureWarning: The demoji.download_codes attribute is deprecated and will be removed from demoji in a future version. It is an unused attribute as emoji codes are now distributed directly with the demoji package.\n",
      "  demoji.download_codes()\n"
     ]
    }
   ],
   "source": [
    "import demoji\n",
    "demoji.download_codes()"
   ]
  },
  {
   "cell_type": "code",
   "execution_count": 35,
   "id": "4cd54c75",
   "metadata": {},
   "outputs": [],
   "source": [
    "  import re"
   ]
  },
  {
   "cell_type": "code",
   "execution_count": 80,
   "id": "522ddb4a",
   "metadata": {},
   "outputs": [],
   "source": [
    "def prepos(text):\n",
    "    emo=demoji.findall(text)\n",
    "    for i,j in emo.items():\n",
    "        text=text.replace(i,j)\n",
    "    text = re.sub(r\"(@|http|www|#)\\S+\", \"\", text)\n",
    "    text= ''.join([i for i in text if not i.isdigit()])\n",
    "    text=text.lower()\n",
    "    text=c.fix(text)\n",
    "    text=\"\".join(i for i in text if i not in s.punctuation )\n",
    "    text=remove_stopwords(text)\n",
    "    text=ob.stem_sentence(text)\n",
    "    newline=' '.join(wl.lemmatize(i,get_wordnet_pos(i)) for i in text.split()  )\n",
    "    return text"
   ]
  },
  {
   "cell_type": "code",
   "execution_count": 81,
   "id": "5874f172",
   "metadata": {},
   "outputs": [
    {
     "data": {
      "text/plain": [
       "'game smile face smile ey right appl best'"
      ]
     },
     "execution_count": 81,
     "metadata": {},
     "output_type": "execute_result"
    }
   ],
   "source": [
    "  prepos(\"'game is on 😊 @sharat 25 isn't right apples best\")"
   ]
  },
  {
   "cell_type": "code",
   "execution_count": 82,
   "id": "25805a2e",
   "metadata": {},
   "outputs": [
    {
     "data": {
      "text/plain": [
       "''"
      ]
     },
     "execution_count": 82,
     "metadata": {},
     "output_type": "execute_result"
    }
   ],
   "source": [
    "remove_stopwords(\"and\")"
   ]
  },
  {
   "cell_type": "code",
   "execution_count": 83,
   "id": "b2de1efa",
   "metadata": {},
   "outputs": [
    {
     "data": {
      "text/plain": [
       "0        best app acord bunch peopl agre bomb egg pig t...\n",
       "1        pretti good version game free lot differ level...\n",
       "2               cool game bunch level golden egg super fun\n",
       "3        silli game frustrat lot fun definit recommend ...\n",
       "4        terrif game pad hr fun grandkid love great ent...\n",
       "                               ...                        \n",
       "19995    app fricken stupidit froze kindl allow place i...\n",
       "19996    add need neighbor ginger thank bunch awesom ga...\n",
       "19997    love game awesom wish free stuff hous cost fun...\n",
       "19998    love love love app fashion stori fight wonder ...\n",
       "19999    game rip list thing betterbul need real animal...\n",
       "Name: reviewText, Length: 20000, dtype: object"
      ]
     },
     "execution_count": 83,
     "metadata": {},
     "output_type": "execute_result"
    }
   ],
   "source": [
    "d.apply(prepos)"
   ]
  },
  {
   "cell_type": "code",
   "execution_count": null,
   "id": "e7a60ea0",
   "metadata": {},
   "outputs": [],
   "source": []
  }
 ],
 "metadata": {
  "kernelspec": {
   "display_name": "Python 3 (ipykernel)",
   "language": "python",
   "name": "python3"
  },
  "language_info": {
   "codemirror_mode": {
    "name": "ipython",
    "version": 3
   },
   "file_extension": ".py",
   "mimetype": "text/x-python",
   "name": "python",
   "nbconvert_exporter": "python",
   "pygments_lexer": "ipython3",
   "version": "3.9.7"
  }
 },
 "nbformat": 4,
 "nbformat_minor": 5
}
